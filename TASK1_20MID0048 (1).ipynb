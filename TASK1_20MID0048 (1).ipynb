{
  "nbformat": 4,
  "nbformat_minor": 0,
  "metadata": {
    "colab": {
      "provenance": []
    },
    "kernelspec": {
      "name": "python3",
      "display_name": "Python 3"
    },
    "language_info": {
      "name": "python"
    }
  },
  "cells": [
    {
      "cell_type": "code",
      "execution_count": 1,
      "metadata": {
        "colab": {
          "base_uri": "https://localhost:8080/",
          "height": 0
        },
        "id": "LwJ4ENB1qOdt",
        "outputId": "f53088a8-d4aa-458a-914a-eb20d04d9037"
      },
      "outputs": [
        {
          "output_type": "stream",
          "name": "stdout",
          "text": [
            "Mounted at /content/drive\n"
          ]
        }
      ],
      "source": [
        "from google.colab import drive\n",
        "drive.mount('/content/drive')"
      ]
    },
    {
      "cell_type": "markdown",
      "source": [
        "Why SARIMA?\n",
        "Seasonality: SARIMA effectively models time series data with seasonality, which is common in retail sales data due to patterns like increased sales during holidays or specific months.\n",
        "Flexibility: It can accommodate the non-stationary nature of many time series datasets through differencing and seasonal differencing, which helps stabilize the mean of the time series.\n",
        "Interpretability: The model parameters (p, d, q) and seasonal parameters (P, D, Q) provide insights into the trends and seasonality of the data.\n",
        "Other models like ARIMA are also popular, but they don’t account for seasonality, which might be crucial for predicting sales. Advanced models like Prophet or LSTM neural networks offer greater flexibility and can model complex patterns but require more computational resources and can be overfitting-prone without careful tuning, making SARIMA a balanced choice"
      ],
      "metadata": {
        "id": "YHcOsXMVL8iq"
      }
    },
    {
      "cell_type": "markdown",
      "source": [
        "#EXPLAINATION\n",
        "1. **Validation Split:**\n",
        "   - The training data is divided into two parts: a training set and a validation set.\n",
        "   - This split helps us test how well the model performs on unseen data.\n",
        "\n",
        "2. **Model Training:**\n",
        "   - We train the SARIMA model using only the training set.\n",
        "   - This step teaches the model the patterns in the training data.\n",
        "\n",
        "3. **Forecasting and Evaluation:**\n",
        "   - The model makes predictions (forecasts) for the validation period.\n",
        "   - We then compare these predictions with the actual values in the validation set.\n",
        "   - We calculate Mean Squared Error (MSE) and Root Mean Squared Error (RMSE) to measure the accuracy of the model's predictions.\n",
        "\n",
        "4. **Final Forecast:**\n",
        "   - The trained model is used to predict future sales for the test dataset period.\n",
        "   - These predictions are based on what the model learned from the training data.\n",
        "\n",
        "5. **Submission File:**\n",
        "   - The forecasted sales values are saved in a specific format required for submission.\n",
        "   - This file contains the predicted number of units sold for each item in the test dataset.\n",
        "\n",
        "This step-by-step process ensures the model is both accurate and ready to make reliable predictions on new data."
      ],
      "metadata": {
        "id": "5Ua9c17qxDHa"
      }
    },
    {
      "cell_type": "markdown",
      "source": [
        "##TASK1\n",
        "In this task, you will work with dummy sales data of a well-known brand on Amazon. Your objective is to build a time series forecasting model that predicts the number of units sold for each item ID.\n"
      ],
      "metadata": {
        "id": "dpB5PmhJuHLx"
      }
    },
    {
      "cell_type": "code",
      "source": [
        "import pandas as pd\n",
        "import numpy as np\n",
        "from statsmodels.tsa.statespace.sarimax import SARIMAX\n",
        "from sklearn.metrics import mean_squared_error\n",
        "from matplotlib import pyplot as plt"
      ],
      "metadata": {
        "id": "pRnCWdRhqP-W"
      },
      "execution_count": 2,
      "outputs": []
    },
    {
      "cell_type": "code",
      "source": [
        "train_path = '/content/drive/My Drive/forecasting-unit-sales-vit-task-2/train.csv'\n",
        "test_path = '/content/drive/My Drive/forecasting-unit-sales-vit-task-2/test.csv'\n",
        "sample_path = '/content/drive/My Drive/forecasting-unit-sales-vit-task-2/sample_submission.csv'"
      ],
      "metadata": {
        "id": "CDkTtXqtqx65"
      },
      "execution_count": 3,
      "outputs": []
    },
    {
      "cell_type": "code",
      "source": [
        "train_data = pd.read_csv(train_path)\n",
        "test_data = pd.read_csv(test_path)\n",
        "sample_data = pd.read_csv(sample_path)"
      ],
      "metadata": {
        "id": "lVW8T-zhrIaR"
      },
      "execution_count": 4,
      "outputs": []
    },
    {
      "cell_type": "code",
      "source": [
        "train_data['date'] = pd.to_datetime(train_data['date'])\n",
        "test_data['date'] = pd.to_datetime(test_data['date'])\n",
        "train_data.sort_values('date', inplace=True)"
      ],
      "metadata": {
        "id": "52TEwjOqrXd8"
      },
      "execution_count": 5,
      "outputs": []
    },
    {
      "cell_type": "code",
      "source": [
        "item_id = train_data['Item Id'].unique()[0]\n",
        "train_item_data = train_data[train_data['Item Id'] == item_id]"
      ],
      "metadata": {
        "id": "RRjHPpAnrcj8"
      },
      "execution_count": 6,
      "outputs": []
    },
    {
      "cell_type": "code",
      "source": [
        "daily_sales = train_item_data.groupby('date')['units'].sum().asfreq('D').fillna(0)"
      ],
      "metadata": {
        "id": "RAiduF1Vrg6c"
      },
      "execution_count": 7,
      "outputs": []
    },
    {
      "cell_type": "code",
      "source": [
        "train_size = int(len(daily_sales) * 0.8)\n",
        "train, val = daily_sales[:train_size], daily_sales[train_size:]"
      ],
      "metadata": {
        "id": "lrn2JEowwIQT"
      },
      "execution_count": 8,
      "outputs": []
    },
    {
      "cell_type": "code",
      "source": [
        "model = SARIMAX(daily_sales, order=(1, 1, 1), seasonal_order=(1, 1, 1, 30))\n",
        "results = model.fit(disp=False)"
      ],
      "metadata": {
        "id": "xa8-ZI7jr-wF"
      },
      "execution_count": 9,
      "outputs": []
    },
    {
      "cell_type": "code",
      "source": [
        "forecast = results.forecast(steps=len(val))"
      ],
      "metadata": {
        "id": "f0Sa82ONwbXP"
      },
      "execution_count": 10,
      "outputs": []
    },
    {
      "cell_type": "code",
      "source": [
        "mse = mean_squared_error(val, forecast)\n",
        "rmse = np.sqrt(mse)\n",
        "\n",
        "print(\"Mean Squared Error (MSE):\", mse)\n",
        "print(\"Root Mean Squared Error (RMSE):\", rmse)"
      ],
      "metadata": {
        "colab": {
          "base_uri": "https://localhost:8080/",
          "height": 0
        },
        "id": "E7eni8jgwcB_",
        "outputId": "1c7e14a6-1272-4bf3-d643-17e9c851bdb5"
      },
      "execution_count": 11,
      "outputs": [
        {
          "output_type": "stream",
          "name": "stdout",
          "text": [
            "Mean Squared Error (MSE): 17.52925917202533\n",
            "Root Mean Squared Error (RMSE): 4.186795812076979\n"
          ]
        }
      ]
    },
    {
      "cell_type": "code",
      "source": [
        "forecast = results.forecast(steps=len(test_data))\n"
      ],
      "metadata": {
        "id": "-Vhn-4VnrmaB"
      },
      "execution_count": 12,
      "outputs": []
    },
    {
      "cell_type": "code",
      "source": [
        "submission = pd.DataFrame({'ID': test_data['ID'], 'TARGET': forecast.values})"
      ],
      "metadata": {
        "id": "Du1cEZ47sCwc"
      },
      "execution_count": 17,
      "outputs": []
    },
    {
      "cell_type": "code",
      "source": [
        "# Save the submission file\n",
        "submission.to_csv('/content/drive/My Drive/forecasting-unit-sales-vit-task-2/sample_submission.csv', index=False)"
      ],
      "metadata": {
        "id": "hPY2PSBFsJLA"
      },
      "execution_count": 18,
      "outputs": []
    },
    {
      "cell_type": "code",
      "source": [
        "# Plot the forecast\n",
        "plt.figure(figsize=(10, 5))\n",
        "plt.plot(daily_sales.index, daily_sales, label='Training Sales')\n",
        "plt.plot(pd.date_range(daily_sales.index[-1], periods=len(forecast)+1, freq='D')[1:], forecast, label='Forecasted Sales')\n",
        "plt.title('Training and Forecasted Sales')\n",
        "plt.legend()\n",
        "plt.show()"
      ],
      "metadata": {
        "colab": {
          "base_uri": "https://localhost:8080/",
          "height": 468
        },
        "id": "Wtai7cF5sQxB",
        "outputId": "525fb907-2e40-4d0f-d525-02651c54bdd5"
      },
      "execution_count": 19,
      "outputs": [
        {
          "output_type": "display_data",
          "data": {
            "text/plain": [
              "<Figure size 1000x500 with 1 Axes>"
            ],
            "image/png": "[encoded data removed]"
          },
          "metadata": {}
        }
      ]
    }
  ]
}